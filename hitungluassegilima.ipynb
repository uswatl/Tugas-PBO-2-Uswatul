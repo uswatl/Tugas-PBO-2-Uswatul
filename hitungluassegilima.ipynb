{
  "nbformat": 4,
  "nbformat_minor": 0,
  "metadata": {
    "colab": {
      "provenance": [],
      "authorship_tag": "ABX9TyPzgySdQ0KYsAnrM4glK9Xj",
      "include_colab_link": true
    },
    "kernelspec": {
      "name": "python3",
      "display_name": "Python 3"
    },
    "language_info": {
      "name": "python"
    }
  },
  "cells": [
    {
      "cell_type": "markdown",
      "metadata": {
        "id": "view-in-github",
        "colab_type": "text"
      },
      "source": [
        "<a href=\"https://colab.research.google.com/github/uswatl/Tugas-PBO-2-Uswatul/blob/main/hitungluassegilima.ipynb\" target=\"_parent\"><img src=\"https://colab.research.google.com/assets/colab-badge.svg\" alt=\"Open In Colab\"/></a>"
      ]
    },
    {
      "cell_type": "code",
      "execution_count": 2,
      "metadata": {
        "colab": {
          "base_uri": "https://localhost:8080/"
        },
        "id": "C36cok3m_i9b",
        "outputId": "850e777a-2b70-4aec-eaf8-b9793d077e39"
      },
      "outputs": [
        {
          "output_type": "stream",
          "name": "stdout",
          "text": [
            "Luas Segi Lima :  17.5\n"
          ]
        }
      ],
      "source": [
        "class hitungluassegilima:\n",
        "  def __init__(self, p, a):\n",
        "    self.p = p\n",
        "    self.a = a\n",
        "\n",
        "obj = hitungluassegilima(7,5)\n",
        "luas = 0.5 * obj.p * obj.a\n",
        "print(\"Luas Segi Lima : \", luas)"
      ]
    }
  ]
}