{
  "nbformat": 4,
  "nbformat_minor": 0,
  "metadata": {
    "colab": {
      "provenance": [],
      "authorship_tag": "ABX9TyPjY5ld3qkYam+84PVI7e7o",
      "include_colab_link": true
    },
    "kernelspec": {
      "name": "python3",
      "display_name": "Python 3"
    },
    "language_info": {
      "name": "python"
    }
  },
  "cells": [
    {
      "cell_type": "markdown",
      "metadata": {
        "id": "view-in-github",
        "colab_type": "text"
      },
      "source": [
        "<a href=\"https://colab.research.google.com/github/uswatl/Tugas-PBO-2-Uswatul/blob/main/hitungkelilingpersegipanjang.ipynb\" target=\"_parent\"><img src=\"https://colab.research.google.com/assets/colab-badge.svg\" alt=\"Open In Colab\"/></a>"
      ]
    },
    {
      "cell_type": "code",
      "execution_count": 3,
      "metadata": {
        "colab": {
          "base_uri": "https://localhost:8080/"
        },
        "id": "aVeZKgZzA3sq",
        "outputId": "a6cf30a8-9e5a-4c55-dabf-f518790a97c6"
      },
      "outputs": [
        {
          "output_type": "stream",
          "name": "stdout",
          "text": [
            "Keliling Persegi Panjang : 16\n"
          ]
        }
      ],
      "source": [
        "class HitungKelilingPersegiPanjang:\n",
        "  def __init__(self, p, l):\n",
        "    self.p = p\n",
        "    self.l = l\n",
        "\n",
        "obj = HitungKelilingPersegiPanjang(3, 5)\n",
        "keliling = 2 * (obj.p + obj.l)\n",
        "print(\"Keliling Persegi Panjang :\", keliling)"
      ]
    }
  ]
}