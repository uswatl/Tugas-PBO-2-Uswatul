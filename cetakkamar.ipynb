{
  "nbformat": 4,
  "nbformat_minor": 0,
  "metadata": {
    "colab": {
      "provenance": [],
      "authorship_tag": "ABX9TyO36SE+zQKMnXxuVLa7NReg",
      "include_colab_link": true
    },
    "kernelspec": {
      "name": "python3",
      "display_name": "Python 3"
    },
    "language_info": {
      "name": "python"
    }
  },
  "cells": [
    {
      "cell_type": "markdown",
      "metadata": {
        "id": "view-in-github",
        "colab_type": "text"
      },
      "source": [
        "<a href=\"https://colab.research.google.com/github/uswatl/Tugas-PBO-2-Uswatul/blob/main/cetakkamar.ipynb\" target=\"_parent\"><img src=\"https://colab.research.google.com/assets/colab-badge.svg\" alt=\"Open In Colab\"/></a>"
      ]
    },
    {
      "cell_type": "code",
      "execution_count": 1,
      "metadata": {
        "colab": {
          "base_uri": "https://localhost:8080/"
        },
        "id": "g76aJ0Ka8w0p",
        "outputId": "770f2ad3-400b-4ebc-b390-73f78af56bda"
      },
      "outputs": [
        {
          "output_type": "stream",
          "name": "stdout",
          "text": [
            "Nomor Kamar : 101\n",
            "Tipe Kamar  : Deluxe\n",
            "Harga       : Rp 500000\n"
          ]
        }
      ],
      "source": [
        "class CetakKamar:\n",
        "  def __init__(self, nomor, tipe, harga):\n",
        "    self.nomor = nomor\n",
        "    self.tipe = tipe\n",
        "    self.harga = harga\n",
        "\n",
        "  def print_info(self):\n",
        "    print(\"Nomor Kamar :\", self.nomor)\n",
        "    print(\"Tipe Kamar  :\", self.tipe)\n",
        "    print(\"Harga       : Rp\", self.harga)\n",
        "\n",
        "obj = CetakKamar(101, \"Deluxe\", 500000)\n",
        "obj.print_info()"
      ]
    }
  ]
}