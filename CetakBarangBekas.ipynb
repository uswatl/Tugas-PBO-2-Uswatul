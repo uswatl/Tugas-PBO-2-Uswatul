{
  "nbformat": 4,
  "nbformat_minor": 0,
  "metadata": {
    "colab": {
      "provenance": [],
      "authorship_tag": "ABX9TyPHbW3pWeyy9sxdSbAGsO2J",
      "include_colab_link": true
    },
    "kernelspec": {
      "name": "python3",
      "display_name": "Python 3"
    },
    "language_info": {
      "name": "python"
    }
  },
  "cells": [
    {
      "cell_type": "markdown",
      "metadata": {
        "id": "view-in-github",
        "colab_type": "text"
      },
      "source": [
        "<a href=\"https://colab.research.google.com/github/uswatl/Tugas-PBO-2-Uswatul/blob/main/CetakBarangBekas.ipynb\" target=\"_parent\"><img src=\"https://colab.research.google.com/assets/colab-badge.svg\" alt=\"Open In Colab\"/></a>"
      ]
    },
    {
      "cell_type": "code",
      "execution_count": 1,
      "metadata": {
        "colab": {
          "base_uri": "https://localhost:8080/"
        },
        "id": "grU70gy--hqc",
        "outputId": "a0d54e9e-29c4-4a8c-bf13-045a5c04b1d9"
      },
      "outputs": [
        {
          "output_type": "stream",
          "name": "stdout",
          "text": [
            "Nama Barang : Laptop\n",
            "Kondisi     : Baik\n",
            "Harga       : Rp 2500000\n"
          ]
        }
      ],
      "source": [
        "class CetakBarangBekas:\n",
        "  def __init__(self, nama, kondisi, harga):\n",
        "    self.nama = nama\n",
        "    self.kondisi = kondisi\n",
        "    self.harga = harga\n",
        "\n",
        "  def print_info(self):\n",
        "    print(\"Nama Barang :\", self.nama)\n",
        "    print(\"Kondisi     :\", self.kondisi)\n",
        "    print(\"Harga       : Rp\", self.harga)\n",
        "\n",
        "obj = CetakBarangBekas(\"Laptop\", \"Baik\", 2500000)\n",
        "obj.print_info()"
      ]
    }
  ]
}