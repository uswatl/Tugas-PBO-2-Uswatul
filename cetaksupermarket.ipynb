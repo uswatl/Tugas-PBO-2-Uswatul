{
  "nbformat": 4,
  "nbformat_minor": 0,
  "metadata": {
    "colab": {
      "provenance": [],
      "authorship_tag": "ABX9TyOwNgHgp6AdkOZzwYVeG998",
      "include_colab_link": true
    },
    "kernelspec": {
      "name": "python3",
      "display_name": "Python 3"
    },
    "language_info": {
      "name": "python"
    }
  },
  "cells": [
    {
      "cell_type": "markdown",
      "metadata": {
        "id": "view-in-github",
        "colab_type": "text"
      },
      "source": [
        "<a href=\"https://colab.research.google.com/github/uswatl/Tugas-PBO-2-Uswatul/blob/main/cetaksupermarket.ipynb\" target=\"_parent\"><img src=\"https://colab.research.google.com/assets/colab-badge.svg\" alt=\"Open In Colab\"/></a>"
      ]
    },
    {
      "cell_type": "code",
      "execution_count": 1,
      "metadata": {
        "colab": {
          "base_uri": "https://localhost:8080/"
        },
        "id": "DgyKzT6d_Ks8",
        "outputId": "2847d2f9-8e8e-4a8f-95d5-548bb66ca8bf"
      },
      "outputs": [
        {
          "output_type": "stream",
          "name": "stdout",
          "text": [
            "Nama Supermarket : FreshMart\n",
            "Lokasi           : Jakarta\n",
            "Jumlah Produk    : 1500\n"
          ]
        }
      ],
      "source": [
        "class CetakSupermarket:\n",
        "  def __init__(self, nama, lokasi, jumlah_produk):\n",
        "    self.nama = nama\n",
        "    self.lokasi = lokasi\n",
        "    self.jumlah_produk = jumlah_produk\n",
        "\n",
        "  def print_info(self):\n",
        "    print(\"Nama Supermarket :\", self.nama)\n",
        "    print(\"Lokasi           :\", self.lokasi)\n",
        "    print(\"Jumlah Produk    :\", self.jumlah_produk)\n",
        "\n",
        "obj = CetakSupermarket(\"FreshMart\", \"Jakarta\", 1500)\n",
        "obj.print_info()"
      ]
    }
  ]
}